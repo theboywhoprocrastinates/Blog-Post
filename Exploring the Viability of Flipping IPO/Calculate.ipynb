{
 "cells": [
  {
   "cell_type": "markdown",
   "metadata": {},
   "source": [
    "<h1> Calculating number of IPO producing positive, negative and zero return </h1>"
   ]
  },
  {
   "cell_type": "code",
   "execution_count": null,
   "metadata": {},
   "outputs": [],
   "source": [
    "def calculate(data):\n",
    "    positive_sum = 0\n",
    "    negative_sum = 0\n",
    "    zero_sum = 0 \n",
    "    for n in data:\n",
    "        if n > 0:\n",
    "            positive_sum += 1\n",
    "        if n == 0:\n",
    "            zero_sum += 1\n",
    "        elif n < 0:\n",
    "            negative_sum += 1\n",
    "\n",
    "    return [positive_sum, zero_sum, negative_sum]\n",
    "\n",
    "calculate(file['diff'])"
   ]
  }
 ],
 "metadata": {
  "kernelspec": {
   "display_name": "Python 3",
   "language": "python",
   "name": "python3"
  },
  "language_info": {
   "codemirror_mode": {
    "name": "ipython",
    "version": 3
   },
   "file_extension": ".py",
   "mimetype": "text/x-python",
   "name": "python",
   "nbconvert_exporter": "python",
   "pygments_lexer": "ipython3",
   "version": "3.6.4"
  }
 },
 "nbformat": 4,
 "nbformat_minor": 2
}
